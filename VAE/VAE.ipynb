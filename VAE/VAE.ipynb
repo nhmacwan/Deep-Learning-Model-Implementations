{
 "cells": [
  {
   "cell_type": "code",
   "execution_count": 1,
   "id": "658e66f9",
   "metadata": {},
   "outputs": [],
   "source": [
    "import torch\n",
    "from torch import nn\n",
    "import torch.nn.functional as F\n",
    "import matplotlib.pyplot as plt"
   ]
  },
  {
   "cell_type": "code",
   "execution_count": 2,
   "id": "efc8343c-8a69-45ad-813b-81d43e28ae9e",
   "metadata": {},
   "outputs": [
    {
     "data": {
      "text/plain": [
       "True"
      ]
     },
     "execution_count": 2,
     "metadata": {},
     "output_type": "execute_result"
    }
   ],
   "source": [
    "torch.cuda.is_available()"
   ]
  },
  {
   "cell_type": "code",
   "execution_count": 3,
   "id": "ab3fdb70-85e9-43fd-9bde-d6b2e3ae7039",
   "metadata": {},
   "outputs": [
    {
     "name": "stdout",
     "output_type": "stream",
     "text": [
      "tensor([[0.4929, 0.4729, 0.5441, 0.5008, 0.5258, 0.5305, 0.4965, 0.4694, 0.4834,\n",
      "         0.4210, 0.5273, 0.4980, 0.4599, 0.4609, 0.4988, 0.4765, 0.5039, 0.5012,\n",
      "         0.5042, 0.5084, 0.5218, 0.5243, 0.4950, 0.4815, 0.5162, 0.5396, 0.4823,\n",
      "         0.5010, 0.5143, 0.4768, 0.5123, 0.4920, 0.4433, 0.5171, 0.4228, 0.4961,\n",
      "         0.5338, 0.4828, 0.5407, 0.4967, 0.5061, 0.5129, 0.5185, 0.4575, 0.4211,\n",
      "         0.4768, 0.4764, 0.5089, 0.5266, 0.4691, 0.4772, 0.4561, 0.5675, 0.4870,\n",
      "         0.5162, 0.5301, 0.5655, 0.4980, 0.4418, 0.5357, 0.4779, 0.4810, 0.4799,\n",
      "         0.5760, 0.4607, 0.4986, 0.4798, 0.4833, 0.5424, 0.4907, 0.5190, 0.5270,\n",
      "         0.4964, 0.5523, 0.5643, 0.4699, 0.4723, 0.5154, 0.5321, 0.4992, 0.4821,\n",
      "         0.5113, 0.4725, 0.4910, 0.5081, 0.4947, 0.5203, 0.4539, 0.5225, 0.5196,\n",
      "         0.5077, 0.4193, 0.5204, 0.4872, 0.4665, 0.4836, 0.5229, 0.4959, 0.5573,\n",
      "         0.5006, 0.4675, 0.4897, 0.4859, 0.4950, 0.5093, 0.4325, 0.5148, 0.4674,\n",
      "         0.4757, 0.4808, 0.4713, 0.5041, 0.4854, 0.4535, 0.4864, 0.5276, 0.4989,\n",
      "         0.5779, 0.5155, 0.5314, 0.4960, 0.5685, 0.4789, 0.5176, 0.4471, 0.5767,\n",
      "         0.5474, 0.4871, 0.5031, 0.5036, 0.5338, 0.5056, 0.5370, 0.4887, 0.5081,\n",
      "         0.4937, 0.5199, 0.5121, 0.5359, 0.5304, 0.4841, 0.4948, 0.5000, 0.4639,\n",
      "         0.4943, 0.4925, 0.5061, 0.5137, 0.5417, 0.5219, 0.5336, 0.4621, 0.5105,\n",
      "         0.5152, 0.4950, 0.4794, 0.4575, 0.5603, 0.5025, 0.5291, 0.4568, 0.4879,\n",
      "         0.5711, 0.5542, 0.5184, 0.5046, 0.4794, 0.5088, 0.5005, 0.4960, 0.4909,\n",
      "         0.4892, 0.4444, 0.5031, 0.5452, 0.4837, 0.5216, 0.4532, 0.5233, 0.5048,\n",
      "         0.5432, 0.4989, 0.4803, 0.4763, 0.4591, 0.4251, 0.5027, 0.4880, 0.5133,\n",
      "         0.4757, 0.5080, 0.5328, 0.5064, 0.5203, 0.5049, 0.4590, 0.5224, 0.4800,\n",
      "         0.4828, 0.5352, 0.5370, 0.5464, 0.5483, 0.4926, 0.4589, 0.5167, 0.4473,\n",
      "         0.5066, 0.5338, 0.5425, 0.4758, 0.5231, 0.4866, 0.4698, 0.4962, 0.5079,\n",
      "         0.4847, 0.5075, 0.4892, 0.4582, 0.5448, 0.5003, 0.5248, 0.5170, 0.5027,\n",
      "         0.5197, 0.4710, 0.4956, 0.5111, 0.5221, 0.5462, 0.5152, 0.4552, 0.5141,\n",
      "         0.4509, 0.5423, 0.5079, 0.5081, 0.4535, 0.4668, 0.4838, 0.5362, 0.5319,\n",
      "         0.5033, 0.4745, 0.4493, 0.4869, 0.5158, 0.5083, 0.5108, 0.5408, 0.4563,\n",
      "         0.4954, 0.5085, 0.5335, 0.4590, 0.4867, 0.5123, 0.5207, 0.5032, 0.4750,\n",
      "         0.4862, 0.4707, 0.4715, 0.4726, 0.4844, 0.4572, 0.4593, 0.5057, 0.4878,\n",
      "         0.5145, 0.4971, 0.4464, 0.5342, 0.4709, 0.4791, 0.5236, 0.5390, 0.5403,\n",
      "         0.4896, 0.4742, 0.5113, 0.4893, 0.5536, 0.4407, 0.5204, 0.4717, 0.4931,\n",
      "         0.5083, 0.5307, 0.5444, 0.5033, 0.5570, 0.5733, 0.4802, 0.4783, 0.4703,\n",
      "         0.4536, 0.4645, 0.5319, 0.5216, 0.4760, 0.5378, 0.4681, 0.4700, 0.4689,\n",
      "         0.4983, 0.4931, 0.4555, 0.4863, 0.4398, 0.4886, 0.5025, 0.5333, 0.4910,\n",
      "         0.5177, 0.5177, 0.4849, 0.5202, 0.5176, 0.5373, 0.5063, 0.4707, 0.4992,\n",
      "         0.5065, 0.5708, 0.5040, 0.5334, 0.4899, 0.4910, 0.4578, 0.5532, 0.5097,\n",
      "         0.4840, 0.5007, 0.5397, 0.5175, 0.4907, 0.5133, 0.5008, 0.4761, 0.5082,\n",
      "         0.5284, 0.5473, 0.4854, 0.5341, 0.4876, 0.5386, 0.4779, 0.4820, 0.4792,\n",
      "         0.5054, 0.5435, 0.4611, 0.5039, 0.4602, 0.4733, 0.4563, 0.4703, 0.4753,\n",
      "         0.5270, 0.5103, 0.5576, 0.5142, 0.5616, 0.5190, 0.4778, 0.5103, 0.4973,\n",
      "         0.4979, 0.5048, 0.4883, 0.4972, 0.5209, 0.4929, 0.5084, 0.4990, 0.5051,\n",
      "         0.4670, 0.5154, 0.4914, 0.5075, 0.5003, 0.4683, 0.5294, 0.4913, 0.5282,\n",
      "         0.4215, 0.4425, 0.4950, 0.5466, 0.5463, 0.4628, 0.5037, 0.4950, 0.4655,\n",
      "         0.4531, 0.4829, 0.5031, 0.5211, 0.4915, 0.5436, 0.5173, 0.4661, 0.4932,\n",
      "         0.5688, 0.5376, 0.4975, 0.5208, 0.5784, 0.4998, 0.4177, 0.5151, 0.5572,\n",
      "         0.4947, 0.5278, 0.4882, 0.4932, 0.4922, 0.4811, 0.4567, 0.5156, 0.4388,\n",
      "         0.4920, 0.4747, 0.4658, 0.4766, 0.5109, 0.5070, 0.4650, 0.4546, 0.5269,\n",
      "         0.4773, 0.4603, 0.4404, 0.5146, 0.5067, 0.5388, 0.4973, 0.4875, 0.5088,\n",
      "         0.5060, 0.5705, 0.5278, 0.4913, 0.4786, 0.5147, 0.4986, 0.5379, 0.5091,\n",
      "         0.4801, 0.5039, 0.4945, 0.5370, 0.5032, 0.5160, 0.5519, 0.5045, 0.5539,\n",
      "         0.4958, 0.5267, 0.4778, 0.4777, 0.5245, 0.4716, 0.4885, 0.4815, 0.4376,\n",
      "         0.4561, 0.4727, 0.5243, 0.4777, 0.5030, 0.4822, 0.5321, 0.4260, 0.5145,\n",
      "         0.5101, 0.4802, 0.4916, 0.5026, 0.4997, 0.4062, 0.4765, 0.5315, 0.5668,\n",
      "         0.5514, 0.4579, 0.4845, 0.5023, 0.5066, 0.4960, 0.4536, 0.4807, 0.5200,\n",
      "         0.5202, 0.4715, 0.5038, 0.4848, 0.4569, 0.4711, 0.5376, 0.4859, 0.4513,\n",
      "         0.5386, 0.5170, 0.5139, 0.4774, 0.4607, 0.4726, 0.5354, 0.4736, 0.4777,\n",
      "         0.4880, 0.6051, 0.4660, 0.5315, 0.4969, 0.5010, 0.5216, 0.5098, 0.5116,\n",
      "         0.5457, 0.5330, 0.4499, 0.4949, 0.5465, 0.5097, 0.4587, 0.5110, 0.5223,\n",
      "         0.4448, 0.4687, 0.4703, 0.4548, 0.5383, 0.5147, 0.4963, 0.5164, 0.4721,\n",
      "         0.5330, 0.4917, 0.5064, 0.4694, 0.5338, 0.4884, 0.4459, 0.4416, 0.4900,\n",
      "         0.5025, 0.5156, 0.5166, 0.5168, 0.5163, 0.4839, 0.5134, 0.5014, 0.5198,\n",
      "         0.4972, 0.4956, 0.5662, 0.5236, 0.4996, 0.4782, 0.5054, 0.5249, 0.4740,\n",
      "         0.5194, 0.4675, 0.4981, 0.5347, 0.5472, 0.5036, 0.4830, 0.4964, 0.4724,\n",
      "         0.4512, 0.5318, 0.4610, 0.4715, 0.4698, 0.4869, 0.5233, 0.5515, 0.5113,\n",
      "         0.5093, 0.5184, 0.5214, 0.4543, 0.4772, 0.4895, 0.5054, 0.4366, 0.4918,\n",
      "         0.5210, 0.4899, 0.5069, 0.4795, 0.5093, 0.4941, 0.5242, 0.5235, 0.5000,\n",
      "         0.4659, 0.5144, 0.5196, 0.4800, 0.5238, 0.4583, 0.4659, 0.5540, 0.5030,\n",
      "         0.5435, 0.4809, 0.5022, 0.5072, 0.4989, 0.5393, 0.4920, 0.5063, 0.4385,\n",
      "         0.4958, 0.4881, 0.5259, 0.4819, 0.5006, 0.5179, 0.5638, 0.5097, 0.5027,\n",
      "         0.4817, 0.4677, 0.4901, 0.5451, 0.5055, 0.5135, 0.5544, 0.5043, 0.5222,\n",
      "         0.4809, 0.4923, 0.4924, 0.5255, 0.4563, 0.4887, 0.4927, 0.4696, 0.5185,\n",
      "         0.4945, 0.5316, 0.5006, 0.5355, 0.5008, 0.4750, 0.5034, 0.5074, 0.5024,\n",
      "         0.4718, 0.5117, 0.4534, 0.5097, 0.4984, 0.4942, 0.4958, 0.4869, 0.4863,\n",
      "         0.4845, 0.5178, 0.5332, 0.4790, 0.4660, 0.5221, 0.4852, 0.4536, 0.4843,\n",
      "         0.5349, 0.5344, 0.4551, 0.4770, 0.4499, 0.4736, 0.5199, 0.5158, 0.4747,\n",
      "         0.4953, 0.5005, 0.4925, 0.5144, 0.4783, 0.5659, 0.4945, 0.4857, 0.5019,\n",
      "         0.4809, 0.5616, 0.5277, 0.4865, 0.5504, 0.5095, 0.5356, 0.4612, 0.5293,\n",
      "         0.4890, 0.5064, 0.5378, 0.5332, 0.4688, 0.5210, 0.5445, 0.4729, 0.4950,\n",
      "         0.5158, 0.5070, 0.4727, 0.5374, 0.4667, 0.5067, 0.5244, 0.5154, 0.4841,\n",
      "         0.5334, 0.4989, 0.5227, 0.5040, 0.5817, 0.4606, 0.5598, 0.4994, 0.5316,\n",
      "         0.4723, 0.5116, 0.4912, 0.5352, 0.4443, 0.4917, 0.4871, 0.4999, 0.4872,\n",
      "         0.5309, 0.4947, 0.4497, 0.4381, 0.4800, 0.5512, 0.5127, 0.4934, 0.4793,\n",
      "         0.5406, 0.4880, 0.5203, 0.4982, 0.4678, 0.4403, 0.4317, 0.5517, 0.5298,\n",
      "         0.5412, 0.4596, 0.5217, 0.5020, 0.4786, 0.4613, 0.4909, 0.4639, 0.5446,\n",
      "         0.5489, 0.5488, 0.5103, 0.4930, 0.4812, 0.4513, 0.4582, 0.5241, 0.4929,\n",
      "         0.4829, 0.5057, 0.4753, 0.4888, 0.5258, 0.5071, 0.4728, 0.5027, 0.5143,\n",
      "         0.4358]])\n"
     ]
    },
    {
     "data": {
      "image/png": "[encoded data removed]",
      "text/plain": [
       "<Figure size 640x480 with 1 Axes>"
      ]
     },
     "metadata": {},
     "output_type": "display_data"
    }
   ],
   "source": [
    "# input Image -> Hidden dim -> Mean, StD -> Parameterization Trick -> Decoder -> Output Image\n",
    "class VariationalAutoEncoder(nn.Module):\n",
    "    def __init__(self, input_dim, h_dim=200, z_dim=20):\n",
    "        super().__init__()\n",
    "        # encoder\n",
    "        self.img_2hid = nn.Linear(input_dim, h_dim)\n",
    "        self.hid_2mu = nn.Linear(h_dim, z_dim)\n",
    "        self.hid_2sigma = nn.Linear(h_dim, z_dim)\n",
    "\n",
    "        # decoder\n",
    "        self.z_2hid = nn.Linear(z_dim, h_dim)\n",
    "        self.hid_2img = nn.Linear(h_dim, input_dim)\n",
    "\n",
    "        self.relu = nn.ReLU()\n",
    "        \n",
    "    def encode(self, x):\n",
    "        #q_phi(z/x)\n",
    "        h = self.relu(self.img_2hid(x))\n",
    "        mu, sigma = self.hid_2mu(h), self.hid_2sigma(h)\n",
    "        return mu, sigma\n",
    "\n",
    "        \n",
    "    def decode(self, z):\n",
    "        # p_t(x/z)\n",
    "        h = self.relu(self.z_2hid(z))\n",
    "        return torch.sigmoid(self.hid_2img(h))\n",
    "\n",
    "    def forward(self,x):\n",
    "        mu, sigma = self.encode(x)\n",
    "        epsilon = torch.randn_like(sigma)\n",
    "        z_reparameterized = mu + sigma*epsilon\n",
    "        x_reconstrcuted = self.decode(z_reparameterized)\n",
    "        return x_reconstrcuted, mu, sigma\n",
    "\n",
    "\n",
    "if __name__ == \"__main__\":\n",
    "    x = torch.randn(1, 784)\n",
    "    vae = VariationalAutoEncoder(input_dim=784)\n",
    "    out = vae(x)\n",
    "    \n",
    "    print(out[0].detach())\n",
    "    out_img = torch.reshape(out[0],(28,28))\n",
    "    out_img = out_img.detach().numpy()\n",
    "    plt.imshow(out_img)"
   ]
  },
  {
   "cell_type": "code",
   "execution_count": 4,
   "id": "0d7d9640-ecb2-4e6e-b2ea-f462b949d411",
   "metadata": {},
   "outputs": [],
   "source": [
    "import torch\n",
    "import torchvision.datasets as datasets\n",
    "from torch import nn\n",
    "from torchvision import transforms\n",
    "from torchvision.utils import save_image\n",
    "from torch.utils.data import DataLoader"
   ]
  },
  {
   "cell_type": "code",
   "execution_count": 5,
   "id": "9a8cfcec-1ebf-4677-9887-291d09f09c4f",
   "metadata": {},
   "outputs": [],
   "source": [
    "# Configuration\n",
    "device = torch.device(\"cuda\" if torch.cuda.is_available() else \"cpu\")\n",
    "INPUT_DIM = 784\n",
    "H_DIM = 200\n",
    "Z_DIM = 20\n",
    "NUM_EPOCHS = 10\n",
    "BATCH_SIZE = 32\n",
    "LR_RATE = 3e-4 # Karpathy Constant\n",
    "\n",
    "\n",
    "# Dataset Loading\n",
    "dataset = datasets.MNIST(root=\"dataset/\", train=True, transform=transforms.ToTensor(), download = True)\n",
    "\n",
    "train_loader = DataLoader(dataset=dataset, batch_size = BATCH_SIZE, shuffle=True)\n",
    "model = VariationalAutoEncoder(INPUT_DIM, H_DIM, Z_DIM).to(device)\n",
    "optimizer = torch.optim.Adam(model.parameters(), lr = LR_RATE)\n",
    "loss_fn = nn.BCELoss(reduction=\"sum\")"
   ]
  },
  {
   "cell_type": "code",
   "execution_count": 10,
   "id": "c2bd3068-6053-41d6-bb30-9a31c7f97390",
   "metadata": {},
   "outputs": [
    {
     "name": "stdout",
     "output_type": "stream",
     "text": [
      "0\n",
      "1\n",
      "2\n",
      "3\n",
      "4\n",
      "5\n",
      "6\n",
      "7\n",
      "8\n",
      "9\n"
     ]
    }
   ],
   "source": [
    "# Start taining\n",
    "for epoch in range(NUM_EPOCHS):\n",
    "    print(epoch)\n",
    "    for (x, _) in train_loader:\n",
    "        x = x.to(device).view(x.shape[0], INPUT_DIM)\n",
    "        x_reconstructed, mu, sigma = model(x)\n",
    "\n",
    "        # compute loss\n",
    "        reconstruction_loss = loss_fn(x_reconstructed, x)\n",
    "        kl_div = -torch.sum(1+torch.log(sigma.pow(2)) - mu.pow(2) - sigma.pow(2))\n",
    "\n",
    "        loss = reconstruction_loss + kl_div\n",
    "\n",
    "        optimizer.zero_grad()\n",
    "        loss.backward()\n",
    "        optimizer.step()"
   ]
  },
  {
   "cell_type": "code",
   "execution_count": 17,
   "id": "98f5e054-c96c-49d4-ae3b-0c44b6ad2f2c",
   "metadata": {},
   "outputs": [],
   "source": [
    "def run_inference(digit, num_examples):\n",
    "    model.to(\"cpu\")\n",
    "    images = []\n",
    "    idx = 0\n",
    "    for x, y in dataset:\n",
    "        if y==idx:\n",
    "            images.append(x)\n",
    "            idx+=1\n",
    "        if idx==10:\n",
    "            break\n",
    "\n",
    "    encodings_digit = []\n",
    "    for d in range(10):\n",
    "        with torch.no_grad():\n",
    "            mu, sigma = model.encode(images[d].view(1,784))\n",
    "        encodings_digit.append((mu, sigma))\n",
    "\n",
    "    mu, sigma = encodings_digit[digit]\n",
    "    for example in range(num_examples):\n",
    "        epsilon = torch.randn_like(sigma)\n",
    "        z = mu + sigma * epsilon\n",
    "        out = model.decode(z)\n",
    "        out = out.view(-1, 1, 28, 28)\n",
    "        save_image(out, f\"generated {digit} {example}.png\")\n",
    "\n",
    "for idx in range(10):\n",
    "    run_inference(idx, num_examples=1)"
   ]
  }
 ],
 "metadata": {
  "kernelspec": {
   "display_name": "Python 3 (ipykernel)",
   "language": "python",
   "name": "python3"
  },
  "language_info": {
   "codemirror_mode": {
    "name": "ipython",
    "version": 3
   },
   "file_extension": ".py",
   "mimetype": "text/x-python",
   "name": "python",
   "nbconvert_exporter": "python",
   "pygments_lexer": "ipython3",
   "version": "3.8.18"
  }
 },
 "nbformat": 4,
 "nbformat_minor": 5
}
